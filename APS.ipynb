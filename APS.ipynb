{
  "nbformat": 4,
  "nbformat_minor": 0,
  "metadata": {
    "colab": {
      "provenance": [],
      "toc_visible": true,
      "authorship_tag": "ABX9TyPWqjBeshi2WOyRxPHAlesZ"
    },
    "kernelspec": {
      "name": "python3",
      "display_name": "Python 3"
    },
    "language_info": {
      "name": "python"
    }
  },
  "cells": [
    {
      "cell_type": "code",
      "source": [
        "#Exercicio 01\n",
        "#Base hexadecimal para decimal\n",
        "numero_base16 = \"FFFAEDA10\"\n",
        "numero_base10 = int(numero_base16, 16)\n",
        "#Base decimal para binario e octal\n",
        "numero_base2 = bin(numero_base10)[2:]\n",
        "numero_base8 = oct(numero_base10)[2:]\n",
        "#Base decimal para heptadecimal\n",
        "numero_base7 = \"\"\n",
        "base7 = \"01234567\"\n",
        "while numero_base10 >=7:\n",
        "    resto = numero_base10 % 7\n",
        "    numero_base7 = base7[resto] + numero_base7\n",
        "    numero_base10 = numero_base10 // 7\n",
        "\n",
        "numero_base7 = base7[numero_base10] + numero_base7\n",
        "\n",
        "print (\"FFFAEDA10 para a base binaria é:\",numero_base2)\n",
        "print (\"FFFAEDA10 para a base heptadecimal é:\",numero_base7)\n",
        "print (\"FFFAEDA10 para a base octal é:\",numero_base8)\n"
      ],
      "metadata": {
        "colab": {
          "base_uri": "https://localhost:8080/"
        },
        "id": "8AvGLT6-jXi4",
        "outputId": "157ca6ab-cf52-46e4-94d3-c5351c9fafb5"
      },
      "execution_count": 147,
      "outputs": [
        {
          "output_type": "stream",
          "name": "stdout",
          "text": [
            "FFFAEDA10 para a base binaria é: 111111111111101011101101101000010000\n",
            "FFFAEDA10 para a base heptadecimal é: 4651541465634\n",
            "FFFAEDA10 para a base octal é: 777753555020\n"
          ]
        }
      ]
    },
    {
      "cell_type": "code",
      "source": [
        "#Exercicio 02\n",
        "x = 10\n",
        "precisao = 1e-6\n",
        "iteracoes = 0\n",
        "\n",
        "while x > precisao:\n",
        "    x = x / 2\n",
        "    iteracoes += 1\n",
        "    print(\"iteracao numero:\",iteracoes,\"valor atual de x:\", x)\n",
        "\n",
        "print(\"\")\n",
        "print(\"valor final de x:\", x)\n",
        "print(\"total de iteraçoes:\", iteracoes)"
      ],
      "metadata": {
        "id": "yfNCFNFwi2Sk"
      },
      "execution_count": null,
      "outputs": []
    },
    {
      "cell_type": "code",
      "source": [
        "#Exercicio 03\n",
        "def f(x):\n",
        "    return x**4 - 7*x**2 + x - 8\n",
        "\n",
        "a = -5\n",
        "b = 5\n",
        "precisao = 1e-6\n",
        "iteracoes = 0\n",
        "\n",
        "while (b-a)/2 > precisao:\n",
        "    iteracoes += 1\n",
        "    c = (a+b)/2\n",
        "    print(\"iteraçao numero:\",iteracoes,\"valor de x:\",c)\n",
        "    if f(c) == 0:\n",
        "        break\n",
        "    if f(a)*f(c) < 0:\n",
        "        b = c\n",
        "    else:\n",
        "        a = c\n",
        "\n",
        "x_bisseccao = (a+b)/2\n",
        "print(\"\")\n",
        "print(\"numero de iteraçoes do metodo da bissecçao:\", iteracoes)\n",
        "print(\"valor de x pelo metodo da bissecçao:\", x_bisseccao)"
      ],
      "metadata": {
        "id": "HLX70NKfp0_B"
      },
      "execution_count": null,
      "outputs": []
    },
    {
      "cell_type": "code",
      "source": [
        "#Exercicio 03.1\n",
        "\n",
        "def f(x):\n",
        "    return x**4 - 7*x**2 + x - 8\n",
        "\n",
        "a = -5\n",
        "b = 5\n",
        "\n",
        "def f_deriv(x):\n",
        "    return 4*x**3 - 14*x + 1\n",
        "\n",
        "def quase_newton(f, f_deriv, x0, precisao=1e-6, iteracoes=100):\n",
        "    x = x0\n",
        "    n = 0\n",
        "    for i in range(iteracoes):\n",
        "        fx_deriv = (f(x+precisao) - f(x)) / precisao\n",
        "        x = x - f(x) / fx_deriv\n",
        "        n+=1\n",
        "        print(\"iteracao numero:\",n,\"valor de x:\",x)\n",
        "        if abs(f(x)) < precisao:\n",
        "          return x, i+1\n",
        "\n",
        "x0 = (a + b) / 2\n",
        "raiz_quase_newton, iteracoes_quase_newton = quase_newton(f, f_deriv, x0)\n",
        "\n",
        "print(\"\")\n",
        "print(f\"numero de iteraçoes pelo metodo de quase-newton: {iteracoes_quase_newton}\")\n",
        "print(f\"valor de x pelo metodo de quase-newton: {raiz_quase_newton:.6f}\")"
      ],
      "metadata": {
        "id": "RV100tZ0k_wV"
      },
      "execution_count": null,
      "outputs": []
    },
    {
      "cell_type": "code",
      "source": [
        "#Exercicio 04\n",
        "import numpy as np\n",
        "from numpy import linalg as LA\n",
        "\n",
        "A= np.array([[3,2,7],[2,5,7],[7,1,8]])\n",
        "autovalor, autovetor= LA.eig(A)\n",
        "print(f'autovalor={autovalor}')\n",
        "print(f'autovetor={autovetor}')"
      ],
      "metadata": {
        "id": "4mDHgHzvhyYB"
      },
      "execution_count": null,
      "outputs": []
    }
  ]
}