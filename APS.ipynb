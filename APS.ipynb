{
  "nbformat": 4,
  "nbformat_minor": 0,
  "metadata": {
    "colab": {
      "provenance": [],
      "toc_visible": true,
      "authorship_tag": "ABX9TyOs/Z610XaPD8tBl6KbR/+7"
    },
    "kernelspec": {
      "name": "python3",
      "display_name": "Python 3"
    },
    "language_info": {
      "name": "python"
    }
  },
  "cells": [
    {
      "cell_type": "code",
      "source": [
        "#Exercicio 01\n",
        "#Base hexadecimal para decimal\n",
        "numero_base16 = \"FFFAEDA10\"\n",
        "numero_base10 = int(numero_base16, 16)\n",
        "#Base decimal para binario e octal\n",
        "numero_base2 = bin(numero_base10)[2:]\n",
        "numero_base8 = oct(numero_base10)[2:]\n",
        "#Base decimal para heptadecimal\n",
        "numero_base7 = \"\"\n",
        "base7 = \"01234567\"\n",
        "while numero_base10 >=7:\n",
        "    resto = numero_base10 % 7\n",
        "    numero_base7 = base7[resto] + numero_base7\n",
        "    numero_base10 = numero_base10 // 7\n",
        "\n",
        "numero_base7 = base7[numero_base10] + numero_base7\n",
        "\n",
        "print (\"FFFAEDA10 para a base binaria é:\",numero_base2)\n",
        "print (\"FFFAEDA10 para a base heptadecimal é:\",numero_base7)\n",
        "print (\"FFFAEDA10 para a base octal é:\",numero_base8)\n"
      ],
      "metadata": {
        "colab": {
          "base_uri": "https://localhost:8080/"
        },
        "id": "8AvGLT6-jXi4",
        "outputId": "157ca6ab-cf52-46e4-94d3-c5351c9fafb5"
      },
      "execution_count": 147,
      "outputs": [
        {
          "output_type": "stream",
          "name": "stdout",
          "text": [
            "FFFAEDA10 para a base binaria é: 111111111111101011101101101000010000\n",
            "FFFAEDA10 para a base heptadecimal é: 4651541465634\n",
            "FFFAEDA10 para a base octal é: 777753555020\n"
          ]
        }
      ]
    },
    {
      "cell_type": "code",
      "source": [
        "#Exercicio 02\n",
        "x = 10\n",
        "precisao = 1e-6\n",
        "iteracoes = 0\n",
        "\n",
        "while x > precisao:\n",
        "    x = x / 2\n",
        "    iteracoes += 1\n",
        "    print(\"iteracao numero:\",iteracoes,\"valor atual de x:\", x)\n",
        "\n",
        "print(\"\")\n",
        "print(\"valor final de x:\", x)\n",
        "print(\"total de iteraçoes:\", iteracoes)"
      ],
      "metadata": {
        "colab": {
          "base_uri": "https://localhost:8080/"
        },
        "id": "yfNCFNFwi2Sk",
        "outputId": "01f864fc-3bb1-4904-b5aa-dd1db3f7f66c"
      },
      "execution_count": 155,
      "outputs": [
        {
          "output_type": "stream",
          "name": "stdout",
          "text": [
            "iteracao numero: 1 valor atual de x: 5.0\n",
            "iteracao numero: 2 valor atual de x: 2.5\n",
            "iteracao numero: 3 valor atual de x: 1.25\n",
            "iteracao numero: 4 valor atual de x: 0.625\n",
            "iteracao numero: 5 valor atual de x: 0.3125\n",
            "iteracao numero: 6 valor atual de x: 0.15625\n",
            "iteracao numero: 7 valor atual de x: 0.078125\n",
            "iteracao numero: 8 valor atual de x: 0.0390625\n",
            "iteracao numero: 9 valor atual de x: 0.01953125\n",
            "iteracao numero: 10 valor atual de x: 0.009765625\n",
            "iteracao numero: 11 valor atual de x: 0.0048828125\n",
            "iteracao numero: 12 valor atual de x: 0.00244140625\n",
            "iteracao numero: 13 valor atual de x: 0.001220703125\n",
            "iteracao numero: 14 valor atual de x: 0.0006103515625\n",
            "iteracao numero: 15 valor atual de x: 0.00030517578125\n",
            "iteracao numero: 16 valor atual de x: 0.000152587890625\n",
            "iteracao numero: 17 valor atual de x: 7.62939453125e-05\n",
            "iteracao numero: 18 valor atual de x: 3.814697265625e-05\n",
            "iteracao numero: 19 valor atual de x: 1.9073486328125e-05\n",
            "iteracao numero: 20 valor atual de x: 9.5367431640625e-06\n",
            "iteracao numero: 21 valor atual de x: 4.76837158203125e-06\n",
            "iteracao numero: 22 valor atual de x: 2.384185791015625e-06\n",
            "iteracao numero: 23 valor atual de x: 1.1920928955078125e-06\n",
            "iteracao numero: 24 valor atual de x: 5.960464477539062e-07\n",
            "\n",
            "valor final de x: 5.960464477539062e-07\n",
            "total de iteraçoes: 24\n"
          ]
        }
      ]
    },
    {
      "cell_type": "markdown",
      "source": [
        "![chart.png](data:image/png;base64,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)"
      ],
      "metadata": {
        "id": "sFQWWiVxY5dF"
      }
    },
    {
      "cell_type": "code",
      "source": [
        "#Exercicio 03\n",
        "def f(x):\n",
        "    return x**4 - 7*x**2 + x - 8\n",
        "\n",
        "a = -5\n",
        "b = 5\n",
        "precisao = 1e-6\n",
        "iteracoes = 0\n",
        "\n",
        "while (b-a)/2 > precisao:\n",
        "    iteracoes += 1\n",
        "    c = (a+b)/2\n",
        "    print(\"iteraçao numero:\",iteracoes,\"valor de x:\",c)\n",
        "    if f(c) == 0:\n",
        "        break\n",
        "    if f(a)*f(c) < 0:\n",
        "        b = c\n",
        "    else:\n",
        "        a = c\n",
        "\n",
        "x_bisseccao = (a+b)/2\n",
        "print(\"\")\n",
        "print(\"numero de iteraçoes do metodo da bissecçao:\", iteracoes)\n",
        "print(\"valor de x pelo metodo da bissecçao:\", x_bisseccao)"
      ],
      "metadata": {
        "colab": {
          "base_uri": "https://localhost:8080/"
        },
        "id": "HLX70NKfp0_B",
        "outputId": "d4bee4dc-0a24-40a2-e32a-513032242c76"
      },
      "execution_count": 156,
      "outputs": [
        {
          "output_type": "stream",
          "name": "stdout",
          "text": [
            "iteraçao numero: 1 valor de x: 0.0\n",
            "iteraçao numero: 2 valor de x: -2.5\n",
            "iteraçao numero: 3 valor de x: -3.75\n",
            "iteraçao numero: 4 valor de x: -3.125\n",
            "iteraçao numero: 5 valor de x: -2.8125\n",
            "iteraçao numero: 6 valor de x: -2.96875\n",
            "iteraçao numero: 7 valor de x: -2.890625\n",
            "iteraçao numero: 8 valor de x: -2.8515625\n",
            "iteraçao numero: 9 valor de x: -2.87109375\n",
            "iteraçao numero: 10 valor de x: -2.880859375\n",
            "iteraçao numero: 11 valor de x: -2.8857421875\n",
            "iteraçao numero: 12 valor de x: -2.88330078125\n",
            "iteraçao numero: 13 valor de x: -2.882080078125\n",
            "iteraçao numero: 14 valor de x: -2.8826904296875\n",
            "iteraçao numero: 15 valor de x: -2.88238525390625\n",
            "iteraçao numero: 16 valor de x: -2.882537841796875\n",
            "iteraçao numero: 17 valor de x: -2.8826141357421875\n",
            "iteraçao numero: 18 valor de x: -2.8826522827148438\n",
            "iteraçao numero: 19 valor de x: -2.8826332092285156\n",
            "iteraçao numero: 20 valor de x: -2.8826427459716797\n",
            "iteraçao numero: 21 valor de x: -2.8826475143432617\n",
            "iteraçao numero: 22 valor de x: -2.8826451301574707\n",
            "iteraçao numero: 23 valor de x: -2.882643938064575\n",
            "\n",
            "numero de iteraçoes do metodo da bissecçao: 23\n",
            "valor de x pelo metodo da bissecçao: -2.882644534111023\n"
          ]
        }
      ]
    },
    {
      "cell_type": "code",
      "source": [
        "#Exercicio 03.1\n",
        "\n",
        "def f(x):\n",
        "    return x**4 - 7*x**2 + x - 8\n",
        "\n",
        "a = -5\n",
        "b = 5\n",
        "\n",
        "def f_deriv(x):\n",
        "    return 4*x**3 - 14*x + 1\n",
        "\n",
        "def quase_newton(f, f_deriv, x0, precisao=1e-6, iteracoes=100):\n",
        "    x = x0\n",
        "    n = 0\n",
        "    for i in range(iteracoes):\n",
        "        fx_deriv = (f(x+precisao) - f(x)) / precisao\n",
        "        x = x - f(x) / fx_deriv\n",
        "        n+=1\n",
        "        print(\"iteracao numero:\",n,\"valor de x:\",x)\n",
        "        if abs(f(x)) < precisao:\n",
        "          return x, i+1\n",
        "\n",
        "x0 = (a + b) / 2\n",
        "raiz_quase_newton, iteracoes_quase_newton = quase_newton(f, f_deriv, x0)\n",
        "\n",
        "print(\"\")\n",
        "print(f\"numero de iteraçoes pelo metodo de quase-newton: {iteracoes_quase_newton}\")\n",
        "print(f\"valor de x pelo metodo de quase-newton: {raiz_quase_newton:.6f}\")"
      ],
      "metadata": {
        "colab": {
          "base_uri": "https://localhost:8080/"
        },
        "id": "RV100tZ0k_wV",
        "outputId": "0559fea5-bb08-4b84-d6c4-b3a8ce12bd07"
      },
      "execution_count": 157,
      "outputs": [
        {
          "output_type": "stream",
          "name": "stdout",
          "text": [
            "iteracao numero: 1 valor de x: 8.000055997146738\n",
            "iteracao numero: 2 valor de x: 6.116716687010393\n",
            "iteracao numero: 3 valor de x: 4.749269123268977\n",
            "iteracao numero: 4 valor de x: 3.791656110750383\n",
            "iteracao numero: 5 valor de x: 3.1780026371596146\n",
            "iteracao numero: 6 valor de x: 2.8660420884955835\n",
            "iteracao numero: 7 valor de x: 2.7781185500378878\n",
            "iteracao numero: 8 valor de x: 2.7714516007658907\n",
            "iteracao numero: 9 valor de x: 2.771414765359291\n",
            "\n",
            "numero de iteraçoes pelo metodo de quase-newton: 9\n",
            "valor de x pelo metodo de quase-newton: 2.771415\n"
          ]
        }
      ]
    },
    {
      "cell_type": "code",
      "source": [
        "#Exercicio 04\n",
        "import numpy as np\n",
        "from numpy import linalg as LA\n",
        "\n",
        "A= np.array([[3,2,7],[2,5,7],[7,1,8]])\n",
        "autovalor, autovetor= LA.eig(A)\n",
        "print(f'autovalor:\\n{autovalor}')\n",
        "print(f'autovetor:\\n{autovetor}')\n",
        "\n",
        "U, s, V = np.linalg.svd(A)\n",
        "\n",
        "print(\"matriz A:\\n\", A)\n",
        "print(\"matriz U:\\n\", U)\n",
        "print(\"vetor singular:\\n\", s)\n",
        "print(\"matriz V:\\n\", V)\n"
      ],
      "metadata": {
        "colab": {
          "base_uri": "https://localhost:8080/"
        },
        "id": "4mDHgHzvhyYB",
        "outputId": "6e15fdf5-cf38-497c-b48f-e7f130a34b44"
      },
      "execution_count": 165,
      "outputs": [
        {
          "output_type": "stream",
          "name": "stdout",
          "text": [
            "autovalor:\n",
            "[14.35631335 -1.47439425  3.11808089]\n",
            "autovetor:\n",
            "[[-0.49765377 -0.71770766 -0.05354039]\n",
            " [-0.58529731 -0.39690103 -0.96038303]\n",
            " [-0.64013107  0.57215844  0.27349199]]\n",
            "matriz A:\n",
            " [[3 2 7]\n",
            " [2 5 7]\n",
            " [7 1 8]]\n",
            "matriz U:\n",
            " [[-0.51122121 -0.08505854 -0.85522975]\n",
            " [-0.53607734 -0.74623202  0.39466297]\n",
            " [-0.67176928  0.66022937  0.33589168]]\n",
            "vetor singular:\n",
            " [15.29608356  4.36493456  0.98852112]\n",
            "matriz V:\n",
            " [[-0.47778264 -0.28599467 -0.83062073]\n",
            " [ 0.6584213  -0.74251922 -0.12307149]\n",
            " [ 0.58155407  0.6056998  -0.54306778]]\n"
          ]
        }
      ]
    },
    {
      "cell_type": "markdown",
      "source": [],
      "metadata": {
        "id": "lfTFM_CmUIy6"
      }
    }
  ]
}