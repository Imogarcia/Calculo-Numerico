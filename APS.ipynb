{
  "nbformat": 4,
  "nbformat_minor": 0,
  "metadata": {
    "colab": {
      "provenance": [],
      "toc_visible": true,
      "authorship_tag": "ABX9TyPWqjBeshi2WOyRxPHAlesZ"
    },
    "kernelspec": {
      "name": "python3",
      "display_name": "Python 3"
    },
    "language_info": {
      "name": "python"
    }
  },
  "cells": [
    {
      "cell_type": "code",
      "source": [
        "#Exercicio 01\n",
        "#Base hexadecimal para decimal\n",
        "numero_base16 = \"FFFAEDA10\"\n",
        "numero_base10 = int(numero_base16, 16)\n",
        "#Base decimal para binario e octal\n",
        "numero_base2 = bin(numero_base10)[2:]\n",
        "numero_base8 = oct(numero_base10)[2:]\n",
        "#Base decimal para heptadecimal\n",
        "numero_base7 = \"\"\n",
        "base7 = \"01234567\"\n",
        "while numero_base10 >=7:\n",
        "    resto = numero_base10 % 7\n",
        "    numero_base7 = base7[resto] + numero_base7\n",
        "    numero_base10 = numero_base10 // 7\n",
        "\n",
        "numero_base7 = base7[numero_base10] + numero_base7\n",
        "\n",
        "print (\"FFFAEDA10 para a base binaria é:\",numero_base2)\n",
        "print (\"FFFAEDA10 para a base heptadecimal é:\",numero_base7)\n",
        "print (\"FFFAEDA10 para a base octal é:\",numero_base8)\n"
      ],
      "metadata": {
        "colab": {
          "base_uri": "https://localhost:8080/"
        },
        "id": "8AvGLT6-jXi4",
        "outputId": "157ca6ab-cf52-46e4-94d3-c5351c9fafb5"
      },
      "execution_count": 147,
      "outputs": [
        {
          "output_type": "stream",
          "name": "stdout",
          "text": [
            "FFFAEDA10 para a base binaria é: 111111111111101011101101101000010000\n",
            "FFFAEDA10 para a base heptadecimal é: 4651541465634\n",
            "FFFAEDA10 para a base octal é: 777753555020\n"
          ]
        }
      ]
    },
    {
      "cell_type": "code",
      "source": [
        "#Exercicio 02\n",
        "x = 10\n",
        "precisao = 1e-6\n",
        "iteracoes = 0\n",
        "\n",
        "while x > precisao:\n",
        "    x = x / 2\n",
        "    iteracoes += 1\n",
        "    print(\"iteracao numero:\",iteracoes,\"valor atual de x:\", x)\n",
        "\n",
        "print(\"\")\n",
        "print(\"valor final de x:\", x)\n",
        "print(\"total de iteraçoes:\", iteracoes)"
      ],
      "metadata": {
        "colab": {
          "base_uri": "https://localhost:8080/"
        },
        "id": "yfNCFNFwi2Sk",
        "outputId": "01f864fc-3bb1-4904-b5aa-dd1db3f7f66c"
      },
      "execution_count": 155,
      "outputs": [
        {
          "output_type": "stream",
          "name": "stdout",
          "text": [
            "iteracao numero: 1 valor atual de x: 5.0\n",
            "iteracao numero: 2 valor atual de x: 2.5\n",
            "iteracao numero: 3 valor atual de x: 1.25\n",
            "iteracao numero: 4 valor atual de x: 0.625\n",
            "iteracao numero: 5 valor atual de x: 0.3125\n",
            "iteracao numero: 6 valor atual de x: 0.15625\n",
            "iteracao numero: 7 valor atual de x: 0.078125\n",
            "iteracao numero: 8 valor atual de x: 0.0390625\n",
            "iteracao numero: 9 valor atual de x: 0.01953125\n",
            "iteracao numero: 10 valor atual de x: 0.009765625\n",
            "iteracao numero: 11 valor atual de x: 0.0048828125\n",
            "iteracao numero: 12 valor atual de x: 0.00244140625\n",
            "iteracao numero: 13 valor atual de x: 0.001220703125\n",
            "iteracao numero: 14 valor atual de x: 0.0006103515625\n",
            "iteracao numero: 15 valor atual de x: 0.00030517578125\n",
            "iteracao numero: 16 valor atual de x: 0.000152587890625\n",
            "iteracao numero: 17 valor atual de x: 7.62939453125e-05\n",
            "iteracao numero: 18 valor atual de x: 3.814697265625e-05\n",
            "iteracao numero: 19 valor atual de x: 1.9073486328125e-05\n",
            "iteracao numero: 20 valor atual de x: 9.5367431640625e-06\n",
            "iteracao numero: 21 valor atual de x: 4.76837158203125e-06\n",
            "iteracao numero: 22 valor atual de x: 2.384185791015625e-06\n",
            "iteracao numero: 23 valor atual de x: 1.1920928955078125e-06\n",
            "iteracao numero: 24 valor atual de x: 5.960464477539062e-07\n",
            "\n",
            "valor final de x: 5.960464477539062e-07\n",
            "total de iteraçoes: 24\n"
          ]
        }
      ]
    },
    {
      "cell_type": "code",
      "source": [
        "#Exercicio 03\n",
        "def f(x):\n",
        "    return x**4 - 7*x**2 + x - 8\n",
        "\n",
        "a = -5\n",
        "b = 5\n",
        "precisao = 1e-6\n",
        "iteracoes = 0\n",
        "\n",
        "while (b-a)/2 > precisao:\n",
        "    iteracoes += 1\n",
        "    c = (a+b)/2\n",
        "    print(\"iteraçao numero:\",iteracoes,\"valor de x:\",c)\n",
        "    if f(c) == 0:\n",
        "        break\n",
        "    if f(a)*f(c) < 0:\n",
        "        b = c\n",
        "    else:\n",
        "        a = c\n",
        "\n",
        "x_bisseccao = (a+b)/2\n",
        "print(\"\")\n",
        "print(\"numero de iteraçoes do metodo da bissecçao:\", iteracoes)\n",
        "print(\"valor de x pelo metodo da bissecçao:\", x_bisseccao)"
      ],
      "metadata": {
        "colab": {
          "base_uri": "https://localhost:8080/"
        },
        "id": "HLX70NKfp0_B",
        "outputId": "d4bee4dc-0a24-40a2-e32a-513032242c76"
      },
      "execution_count": 156,
      "outputs": [
        {
          "output_type": "stream",
          "name": "stdout",
          "text": [
            "iteraçao numero: 1 valor de x: 0.0\n",
            "iteraçao numero: 2 valor de x: -2.5\n",
            "iteraçao numero: 3 valor de x: -3.75\n",
            "iteraçao numero: 4 valor de x: -3.125\n",
            "iteraçao numero: 5 valor de x: -2.8125\n",
            "iteraçao numero: 6 valor de x: -2.96875\n",
            "iteraçao numero: 7 valor de x: -2.890625\n",
            "iteraçao numero: 8 valor de x: -2.8515625\n",
            "iteraçao numero: 9 valor de x: -2.87109375\n",
            "iteraçao numero: 10 valor de x: -2.880859375\n",
            "iteraçao numero: 11 valor de x: -2.8857421875\n",
            "iteraçao numero: 12 valor de x: -2.88330078125\n",
            "iteraçao numero: 13 valor de x: -2.882080078125\n",
            "iteraçao numero: 14 valor de x: -2.8826904296875\n",
            "iteraçao numero: 15 valor de x: -2.88238525390625\n",
            "iteraçao numero: 16 valor de x: -2.882537841796875\n",
            "iteraçao numero: 17 valor de x: -2.8826141357421875\n",
            "iteraçao numero: 18 valor de x: -2.8826522827148438\n",
            "iteraçao numero: 19 valor de x: -2.8826332092285156\n",
            "iteraçao numero: 20 valor de x: -2.8826427459716797\n",
            "iteraçao numero: 21 valor de x: -2.8826475143432617\n",
            "iteraçao numero: 22 valor de x: -2.8826451301574707\n",
            "iteraçao numero: 23 valor de x: -2.882643938064575\n",
            "\n",
            "numero de iteraçoes do metodo da bissecçao: 23\n",
            "valor de x pelo metodo da bissecçao: -2.882644534111023\n"
          ]
        }
      ]
    },
    {
      "cell_type": "code",
      "source": [
        "#Exercicio 03.1\n",
        "\n",
        "def f(x):\n",
        "    return x**4 - 7*x**2 + x - 8\n",
        "\n",
        "a = -5\n",
        "b = 5\n",
        "\n",
        "def f_deriv(x):\n",
        "    return 4*x**3 - 14*x + 1\n",
        "\n",
        "def quase_newton(f, f_deriv, x0, precisao=1e-6, iteracoes=100):\n",
        "    x = x0\n",
        "    n = 0\n",
        "    for i in range(iteracoes):\n",
        "        fx_deriv = (f(x+precisao) - f(x)) / precisao\n",
        "        x = x - f(x) / fx_deriv\n",
        "        n+=1\n",
        "        print(\"iteracao numero:\",n,\"valor de x:\",x)\n",
        "        if abs(f(x)) < precisao:\n",
        "          return x, i+1\n",
        "\n",
        "x0 = (a + b) / 2\n",
        "raiz_quase_newton, iteracoes_quase_newton = quase_newton(f, f_deriv, x0)\n",
        "\n",
        "print(\"\")\n",
        "print(f\"numero de iteraçoes pelo metodo de quase-newton: {iteracoes_quase_newton}\")\n",
        "print(f\"valor de x pelo metodo de quase-newton: {raiz_quase_newton:.6f}\")"
      ],
      "metadata": {
        "colab": {
          "base_uri": "https://localhost:8080/"
        },
        "id": "RV100tZ0k_wV",
        "outputId": "0559fea5-bb08-4b84-d6c4-b3a8ce12bd07"
      },
      "execution_count": 157,
      "outputs": [
        {
          "output_type": "stream",
          "name": "stdout",
          "text": [
            "iteracao numero: 1 valor de x: 8.000055997146738\n",
            "iteracao numero: 2 valor de x: 6.116716687010393\n",
            "iteracao numero: 3 valor de x: 4.749269123268977\n",
            "iteracao numero: 4 valor de x: 3.791656110750383\n",
            "iteracao numero: 5 valor de x: 3.1780026371596146\n",
            "iteracao numero: 6 valor de x: 2.8660420884955835\n",
            "iteracao numero: 7 valor de x: 2.7781185500378878\n",
            "iteracao numero: 8 valor de x: 2.7714516007658907\n",
            "iteracao numero: 9 valor de x: 2.771414765359291\n",
            "\n",
            "numero de iteraçoes pelo metodo de quase-newton: 9\n",
            "valor de x pelo metodo de quase-newton: 2.771415\n"
          ]
        }
      ]
    },
    {
      "cell_type": "code",
      "source": [
        "#Exercicio 04\n",
        "import numpy as np\n",
        "from numpy import linalg as LA\n",
        "\n",
        "A= np.array([[3,2,7],[2,5,7],[7,1,8]])\n",
        "autovalor, autovetor= LA.eig(A)\n",
        "print(f'autovalor={autovalor}')\n",
        "print(f'autovetor={autovetor}')"
      ],
      "metadata": {
        "colab": {
          "base_uri": "https://localhost:8080/"
        },
        "id": "4mDHgHzvhyYB",
        "outputId": "430ed635-efd6-4181-9890-c5955f14bf69"
      },
      "execution_count": 158,
      "outputs": [
        {
          "output_type": "stream",
          "name": "stdout",
          "text": [
            "autovalor=[14.35631335 -1.47439425  3.11808089]\n",
            "autovetor=[[-0.49765377 -0.71770766 -0.05354039]\n",
            " [-0.58529731 -0.39690103 -0.96038303]\n",
            " [-0.64013107  0.57215844  0.27349199]]\n"
          ]
        }
      ]
    }
  ]
}